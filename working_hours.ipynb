{
 "cells": [
  {
   "cell_type": "code",
   "execution_count": 2,
   "metadata": {},
   "outputs": [],
   "source": [
    "%matplotlib inline\n",
    "import pandas as pd\n",
    "from datetime import time,datetime\n",
    "from business_duration import businessDuration\n",
    "import holidays as pyholidays\n",
    "import numpy as np\n",
    "import matplotlib.pyplot as plt\n",
    "\n",
    "pd.set_option(\"display.max_rows\", 7)\n",
    "\n",
    "LARGE_FIGSIZE = (12, 8)"
   ]
  },
  {
   "cell_type": "markdown",
   "metadata": {},
   "source": [
    "    Даны 3 колонки с данными: 'Name', 'Start Date' и 'End Date'.\n",
    "    'Name' - уникальное название заявки, пришедшей в центр технической поддержки. \n",
    "    'Start Date' - время поступления заявки.\n",
    "    'End Date' - время обработки заявок.\n",
    "\n",
    "    Необходимо рассчитать еще одну колонку - 'Implementation time', показывающую \n",
    "    количество рабочих часов (https://en.wikipedia.org/wiki/Business_hours), \n",
    "    потраченных на обработку каждой заявки.\n",
    "\n",
    "    Рабочие часы начинаются в 08:00 и заканчиваются в 18:00. \n",
    "    Рабочая неделя ПН-ПТ, есть праздники (РФ).\n",
    "\n",
    "    Пример (Даты в ISO):\n",
    "    \n",
    "    |Name  |Start Date         |End Date           |Implementation time|Comment                                      |\n",
    "    |------|-------------------|-------------------|-------------------|---------------------------------------------|\n",
    "    |1     |2020-11-01T08:00:00|2020-11-01T18:00:00|0                  |Выходной                                     |\n",
    "    |2     |2020-11-01T08:00:00|2020-11-02T09:30:00|1.5                |Выходной + 1.5 часа в ПН                     |\n",
    "    |3     |2020-11-01T08:00:00|2020-11-05T19:00:00|24                 |Выходной + 8 ПН + 8 ВТ + СР - выходной + 8 ЧТ|\n",
    "\n",
    "    И т.д.\n",
    "    \n",
    "    Для задания необходимо:\n",
    "    - Самостоятельно сгенерировать случайные 'Name', 'Start Date' и 'End Date' \n",
    "    при условии 01-01-2019 <= 'Start Date' <= 'End Date' < 01-01-2020\n",
    "    (N датасетов, где размер датасета 10^N, N < 8 - натуральное).\n",
    "    - По исходным данным построить гистограмму \"сколько поступило и обработано заявок по месяцам\".\n",
    "    - Построить график скорости работы вашей программы в зависимости от N.\n",
    "    - Написать тесты с пояснениями."
   ]
  },
  {
   "cell_type": "code",
   "execution_count": 3,
   "metadata": {},
   "outputs": [],
   "source": [
    "# init\n",
    "# диапазон дат прихода заявки\n",
    "\n",
    "start_per = pd.to_datetime('2019-01-01')\n",
    "end_per = pd.to_datetime('2019-12-31')\n",
    "\n",
    "# диапазон дат обработки заявки\n",
    "# start_ex = pd.to_datetime('2019-01-10')\n",
    "# end_ex = pd.to_datetime('2019-12-31')\n",
    "\n",
    "# max время обработки заявки \n",
    "\n",
    "due_time = '10 Days'\n",
    "\n",
    "# количество записей в таблице\n",
    "factor = 8\n",
    "n = 2**factor\n",
    "\n",
    "# рабочие часы\n",
    "start_wh = time(8,0,0)\n",
    "end_wh = time(18,0,0)"
   ]
  },
  {
   "cell_type": "code",
   "execution_count": 4,
   "metadata": {},
   "outputs": [],
   "source": [
    "# для генерации значений start_date: время прихода заявки\n",
    "\n",
    "def random_dates(start, end, n):\n",
    "\n",
    "    start_val = start.value//10**9 # конвертация в int\n",
    "    end_val = end.value//10**9\n",
    "\n",
    "    return pd.to_datetime(np.random.randint(start_val, end_val, n), unit='s') "
   ]
  },
  {
   "cell_type": "code",
   "execution_count": 5,
   "metadata": {},
   "outputs": [],
   "source": [
    "# собираем таблицу\n",
    "d = {'name' : range(1,n+1), 'start_date': random_dates(start_per, end_per, n)}\n",
    "df = pd.DataFrame(data = d)\n",
    "df = df.set_index('name', drop=True)"
   ]
  },
  {
   "cell_type": "code",
   "execution_count": 6,
   "metadata": {},
   "outputs": [
    {
     "data": {
      "text/html": [
       "<div>\n",
       "<style scoped>\n",
       "    .dataframe tbody tr th:only-of-type {\n",
       "        vertical-align: middle;\n",
       "    }\n",
       "\n",
       "    .dataframe tbody tr th {\n",
       "        vertical-align: top;\n",
       "    }\n",
       "\n",
       "    .dataframe thead th {\n",
       "        text-align: right;\n",
       "    }\n",
       "</style>\n",
       "<table border=\"1\" class=\"dataframe\">\n",
       "  <thead>\n",
       "    <tr style=\"text-align: right;\">\n",
       "      <th></th>\n",
       "      <th>start_date</th>\n",
       "      <th>end_date</th>\n",
       "    </tr>\n",
       "    <tr>\n",
       "      <th>name</th>\n",
       "      <th></th>\n",
       "      <th></th>\n",
       "    </tr>\n",
       "  </thead>\n",
       "  <tbody>\n",
       "    <tr>\n",
       "      <th>1</th>\n",
       "      <td>2019-05-14 02:46:11</td>\n",
       "      <td>2019-05-22 04:07:51</td>\n",
       "    </tr>\n",
       "    <tr>\n",
       "      <th>2</th>\n",
       "      <td>2019-03-17 15:27:11</td>\n",
       "      <td>2019-03-17 23:06:50</td>\n",
       "    </tr>\n",
       "    <tr>\n",
       "      <th>3</th>\n",
       "      <td>2019-01-04 00:32:32</td>\n",
       "      <td>2019-01-05 02:14:08</td>\n",
       "    </tr>\n",
       "    <tr>\n",
       "      <th>...</th>\n",
       "      <td>...</td>\n",
       "      <td>...</td>\n",
       "    </tr>\n",
       "    <tr>\n",
       "      <th>254</th>\n",
       "      <td>2019-06-07 12:00:25</td>\n",
       "      <td>2019-06-16 12:41:36</td>\n",
       "    </tr>\n",
       "    <tr>\n",
       "      <th>255</th>\n",
       "      <td>2019-11-04 23:32:51</td>\n",
       "      <td>2019-11-14 12:26:51</td>\n",
       "    </tr>\n",
       "    <tr>\n",
       "      <th>256</th>\n",
       "      <td>2019-04-03 01:47:10</td>\n",
       "      <td>2019-04-04 07:48:30</td>\n",
       "    </tr>\n",
       "  </tbody>\n",
       "</table>\n",
       "<p>256 rows × 2 columns</p>\n",
       "</div>"
      ],
      "text/plain": [
       "              start_date            end_date\n",
       "name                                        \n",
       "1    2019-05-14 02:46:11 2019-05-22 04:07:51\n",
       "2    2019-03-17 15:27:11 2019-03-17 23:06:50\n",
       "3    2019-01-04 00:32:32 2019-01-05 02:14:08\n",
       "...                  ...                 ...\n",
       "254  2019-06-07 12:00:25 2019-06-16 12:41:36\n",
       "255  2019-11-04 23:32:51 2019-11-14 12:26:51\n",
       "256  2019-04-03 01:47:10 2019-04-04 07:48:30\n",
       "\n",
       "[256 rows x 2 columns]"
      ]
     },
     "execution_count": 6,
     "metadata": {},
     "output_type": "execute_result"
    }
   ],
   "source": [
    "df['end_date'] = df.start_date + pd.to_timedelta(np.random.randint(0, pd.to_timedelta(due_time).value//10**9, n), unit='s') \n",
    "df"
   ]
  },
  {
   "cell_type": "code",
   "execution_count": 7,
   "metadata": {},
   "outputs": [
    {
     "data": {
      "text/html": [
       "<div>\n",
       "<style scoped>\n",
       "    .dataframe tbody tr th:only-of-type {\n",
       "        vertical-align: middle;\n",
       "    }\n",
       "\n",
       "    .dataframe tbody tr th {\n",
       "        vertical-align: top;\n",
       "    }\n",
       "\n",
       "    .dataframe thead th {\n",
       "        text-align: right;\n",
       "    }\n",
       "</style>\n",
       "<table border=\"1\" class=\"dataframe\">\n",
       "  <thead>\n",
       "    <tr style=\"text-align: right;\">\n",
       "      <th></th>\n",
       "      <th>start_date</th>\n",
       "      <th>end_date</th>\n",
       "    </tr>\n",
       "    <tr>\n",
       "      <th>name</th>\n",
       "      <th></th>\n",
       "      <th></th>\n",
       "    </tr>\n",
       "  </thead>\n",
       "  <tbody>\n",
       "    <tr>\n",
       "      <th>1</th>\n",
       "      <td>2019-05-14 02:46:11</td>\n",
       "      <td>2019-05-22 04:07:51</td>\n",
       "    </tr>\n",
       "    <tr>\n",
       "      <th>2</th>\n",
       "      <td>2019-03-17 15:27:11</td>\n",
       "      <td>2019-03-17 23:06:50</td>\n",
       "    </tr>\n",
       "    <tr>\n",
       "      <th>3</th>\n",
       "      <td>2019-01-04 00:32:32</td>\n",
       "      <td>2019-01-05 02:14:08</td>\n",
       "    </tr>\n",
       "    <tr>\n",
       "      <th>...</th>\n",
       "      <td>...</td>\n",
       "      <td>...</td>\n",
       "    </tr>\n",
       "    <tr>\n",
       "      <th>254</th>\n",
       "      <td>2019-06-07 12:00:25</td>\n",
       "      <td>2019-06-16 12:41:36</td>\n",
       "    </tr>\n",
       "    <tr>\n",
       "      <th>255</th>\n",
       "      <td>2019-11-04 23:32:51</td>\n",
       "      <td>2019-11-14 12:26:51</td>\n",
       "    </tr>\n",
       "    <tr>\n",
       "      <th>256</th>\n",
       "      <td>2019-04-03 01:47:10</td>\n",
       "      <td>2019-04-04 07:48:30</td>\n",
       "    </tr>\n",
       "  </tbody>\n",
       "</table>\n",
       "<p>256 rows × 2 columns</p>\n",
       "</div>"
      ],
      "text/plain": [
       "              start_date            end_date\n",
       "name                                        \n",
       "1    2019-05-14 02:46:11 2019-05-22 04:07:51\n",
       "2    2019-03-17 15:27:11 2019-03-17 23:06:50\n",
       "3    2019-01-04 00:32:32 2019-01-05 02:14:08\n",
       "...                  ...                 ...\n",
       "254  2019-06-07 12:00:25 2019-06-16 12:41:36\n",
       "255  2019-11-04 23:32:51 2019-11-14 12:26:51\n",
       "256  2019-04-03 01:47:10 2019-04-04 07:48:30\n",
       "\n",
       "[256 rows x 2 columns]"
      ]
     },
     "execution_count": 7,
     "metadata": {},
     "output_type": "execute_result"
    }
   ],
   "source": [
    "# считаем, что все заявки, поступившие до нового года были выполнены 31.12\n",
    "\n",
    "df.loc[(df.end_date > pd.to_datetime('2019-12-31')) ,'end_date']= pd.to_datetime('2019-12-31')\n",
    "df"
   ]
  },
  {
   "cell_type": "code",
   "execution_count": 8,
   "metadata": {},
   "outputs": [],
   "source": [
    "# подсчёт business_hours\n",
    "\n",
    "holidaylist = pyholidays.Russia()\n",
    "unit = 'hour'\n",
    "df['impl_time'] = df.apply(lambda row: businessDuration(row['start_date'], row['end_date'], start_wh, end_wh, holidaylist=holidaylist,unit=unit), axis=1)"
   ]
  },
  {
   "cell_type": "code",
   "execution_count": 9,
   "metadata": {},
   "outputs": [
    {
     "data": {
      "text/html": [
       "<div>\n",
       "<style scoped>\n",
       "    .dataframe tbody tr th:only-of-type {\n",
       "        vertical-align: middle;\n",
       "    }\n",
       "\n",
       "    .dataframe tbody tr th {\n",
       "        vertical-align: top;\n",
       "    }\n",
       "\n",
       "    .dataframe thead th {\n",
       "        text-align: right;\n",
       "    }\n",
       "</style>\n",
       "<table border=\"1\" class=\"dataframe\">\n",
       "  <thead>\n",
       "    <tr style=\"text-align: right;\">\n",
       "      <th></th>\n",
       "      <th>start_date</th>\n",
       "      <th>end_date</th>\n",
       "      <th>impl_time</th>\n",
       "    </tr>\n",
       "    <tr>\n",
       "      <th>name</th>\n",
       "      <th></th>\n",
       "      <th></th>\n",
       "      <th></th>\n",
       "    </tr>\n",
       "  </thead>\n",
       "  <tbody>\n",
       "    <tr>\n",
       "      <th>1</th>\n",
       "      <td>2019-05-14 02:46:11</td>\n",
       "      <td>2019-05-22 04:07:51</td>\n",
       "      <td>60.000000</td>\n",
       "    </tr>\n",
       "    <tr>\n",
       "      <th>2</th>\n",
       "      <td>2019-03-17 15:27:11</td>\n",
       "      <td>2019-03-17 23:06:50</td>\n",
       "      <td>0.000000</td>\n",
       "    </tr>\n",
       "    <tr>\n",
       "      <th>3</th>\n",
       "      <td>2019-01-04 00:32:32</td>\n",
       "      <td>2019-01-05 02:14:08</td>\n",
       "      <td>0.000000</td>\n",
       "    </tr>\n",
       "    <tr>\n",
       "      <th>...</th>\n",
       "      <td>...</td>\n",
       "      <td>...</td>\n",
       "      <td>...</td>\n",
       "    </tr>\n",
       "    <tr>\n",
       "      <th>254</th>\n",
       "      <td>2019-06-07 12:00:25</td>\n",
       "      <td>2019-06-16 12:41:36</td>\n",
       "      <td>45.993056</td>\n",
       "    </tr>\n",
       "    <tr>\n",
       "      <th>255</th>\n",
       "      <td>2019-11-04 23:32:51</td>\n",
       "      <td>2019-11-14 12:26:51</td>\n",
       "      <td>74.447500</td>\n",
       "    </tr>\n",
       "    <tr>\n",
       "      <th>256</th>\n",
       "      <td>2019-04-03 01:47:10</td>\n",
       "      <td>2019-04-04 07:48:30</td>\n",
       "      <td>10.000000</td>\n",
       "    </tr>\n",
       "  </tbody>\n",
       "</table>\n",
       "<p>256 rows × 3 columns</p>\n",
       "</div>"
      ],
      "text/plain": [
       "              start_date            end_date  impl_time\n",
       "name                                                   \n",
       "1    2019-05-14 02:46:11 2019-05-22 04:07:51  60.000000\n",
       "2    2019-03-17 15:27:11 2019-03-17 23:06:50   0.000000\n",
       "3    2019-01-04 00:32:32 2019-01-05 02:14:08   0.000000\n",
       "...                  ...                 ...        ...\n",
       "254  2019-06-07 12:00:25 2019-06-16 12:41:36  45.993056\n",
       "255  2019-11-04 23:32:51 2019-11-14 12:26:51  74.447500\n",
       "256  2019-04-03 01:47:10 2019-04-04 07:48:30  10.000000\n",
       "\n",
       "[256 rows x 3 columns]"
      ]
     },
     "execution_count": 9,
     "metadata": {},
     "output_type": "execute_result"
    }
   ],
   "source": [
    "df"
   ]
  },
  {
   "cell_type": "code",
   "execution_count": 10,
   "metadata": {},
   "outputs": [
    {
     "data": {
      "image/png": "[encoded data removed]",
      "text/plain": [
       "<Figure size 432x288 with 1 Axes>"
      ]
     },
     "metadata": {
      "needs_background": "light"
     },
     "output_type": "display_data"
    }
   ],
   "source": [
    "plt.hist(df['start_date'].dt.month, bins = [0.5, 1.5, 2.5, 3.5, 4.5, 5.5, 6.5, 7.5, 8.5, 9.5, 10.5, 11.5, 12.5],\n",
    "         histtype='bar',\n",
    "         rwidth = 0.5,\n",
    "         facecolor='b',\n",
    "         alpha=0.5)\n",
    "\n",
    "plt.xlabel('Месяц')\n",
    "plt.xticks(range(1,13))\n",
    "plt.ylabel('Число заявок')\n",
    "plt.title('Получено заявок')\n",
    "plt.show()"
   ]
  },
  {
   "cell_type": "code",
   "execution_count": 11,
   "metadata": {},
   "outputs": [
    {
     "data": {
      "image/png": "[encoded data removed]",
      "text/plain": [
       "<Figure size 432x288 with 1 Axes>"
      ]
     },
     "metadata": {
      "needs_background": "light"
     },
     "output_type": "display_data"
    }
   ],
   "source": [
    "plt.hist(df['end_date'].dt.month, bins = [0.5, 1.5, 2.5, 3.5, 4.5, 5.5, 6.5, 7.5, 8.5, 9.5, 10.5, 11.5, 12.5],\n",
    "         histtype='bar',\n",
    "         rwidth = 0.5,\n",
    "         facecolor='b',\n",
    "         alpha=0.5)\n",
    "plt.xlabel('Месяц')\n",
    "plt.xticks(range(1,13))\n",
    "plt.ylabel('Число заявок')\n",
    "plt.title('Обработано заявок')\n",
    "plt.show()"
   ]
  },
  {
   "cell_type": "code",
   "execution_count": 29,
   "metadata": {},
   "outputs": [],
   "source": [
    "# скорость работы\n",
    "import time\n",
    "\n",
    "el_time = []\n",
    "factors = range(5,30)\n",
    "\n",
    "for n in factors:\n",
    "    start = time.time()\n",
    "    d = {'name' : range(1,n+1), 'start_date': random_dates(start_per, end_per, n)}\n",
    "    df = pd.DataFrame(data = d)\n",
    "    df = df.set_index('name', drop=True)\n",
    "    df['end_date'] = df.start_date + pd.to_timedelta(np.random.randint(0, pd.to_timedelta(due_time).value//10**9, n), unit='s') \n",
    "    df.loc[(df.end_date > pd.to_datetime('2019-12-31')) ,'end_date']= pd.to_datetime('2019-12-31')\n",
    "    holidaylist = pyholidays.Russia()\n",
    "    unit = 'hour'\n",
    "    df['impl_time'] = df.apply(lambda row: businessDuration(row['start_date'], row['end_date'], start_wh, end_wh, holidaylist=holidaylist,unit=unit), axis=1)\n",
    "    end = time.time()\n",
    "    del d, df, holidaylist\n",
    "    el_time.append(end - start)"
   ]
  },
  {
   "cell_type": "code",
   "execution_count": 31,
   "metadata": {},
   "outputs": [
    {
     "data": {
      "image/png": "[encoded data removed]",
      "text/plain": [
       "<Figure size 432x288 with 1 Axes>"
      ]
     },
     "metadata": {
      "needs_background": "light"
     },
     "output_type": "display_data"
    }
   ],
   "source": [
    "plt.plot(factors, el_time, 'b.-')\n",
    "plt.xlabel('n')\n",
    "plt.ylabel('time, ms')\n",
    "plt.title('Performance test')\n",
    "plt.show()"
   ]
  },
  {
   "cell_type": "code",
   "execution_count": null,
   "metadata": {},
   "outputs": [],
   "source": []
  }
 ],
 "metadata": {
  "kernelspec": {
   "display_name": "Python 3",
   "language": "python",
   "name": "python3"
  },
  "language_info": {
   "codemirror_mode": {
    "name": "ipython",
    "version": 3
   },
   "file_extension": ".py",
   "mimetype": "text/x-python",
   "name": "python",
   "nbconvert_exporter": "python",
   "pygments_lexer": "ipython3",
   "version": "3.8.5"
  }
 },
 "nbformat": 4,
 "nbformat_minor": 4
}
